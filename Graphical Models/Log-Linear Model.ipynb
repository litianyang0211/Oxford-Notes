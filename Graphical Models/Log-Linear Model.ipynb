{
 "cells": [
  {
   "cell_type": "markdown",
   "metadata": {},
   "source": [
    "# Log-Linear Model\n",
    "\n",
    "This is a demo of log-linear model.\n",
    "\n",
    "## Code and Result"
   ]
  },
  {
   "cell_type": "code",
   "execution_count": 1,
   "metadata": {},
   "outputs": [],
   "source": [
    "# Packages.\n",
    "import pandas as pd\n",
    "import statsmodels.api as sm\n",
    "from statsmodels.formula.api import glm"
   ]
  },
  {
   "cell_type": "code",
   "execution_count": 2,
   "metadata": {},
   "outputs": [
    {
     "data": {
      "text/html": [
       "<div>\n",
       "<style scoped>\n",
       "    .dataframe tbody tr th:only-of-type {\n",
       "        vertical-align: middle;\n",
       "    }\n",
       "\n",
       "    .dataframe tbody tr th {\n",
       "        vertical-align: top;\n",
       "    }\n",
       "\n",
       "    .dataframe thead th {\n",
       "        text-align: right;\n",
       "    }\n",
       "</style>\n",
       "<table border=\"1\" class=\"dataframe\">\n",
       "  <thead>\n",
       "    <tr style=\"text-align: right;\">\n",
       "      <th></th>\n",
       "      <th>DeathPen</th>\n",
       "      <th>Defendant</th>\n",
       "      <th>Victim</th>\n",
       "      <th>freq</th>\n",
       "    </tr>\n",
       "  </thead>\n",
       "  <tbody>\n",
       "    <tr>\n",
       "      <th>0</th>\n",
       "      <td>Yes</td>\n",
       "      <td>White</td>\n",
       "      <td>White</td>\n",
       "      <td>53</td>\n",
       "    </tr>\n",
       "    <tr>\n",
       "      <th>1</th>\n",
       "      <td>No</td>\n",
       "      <td>White</td>\n",
       "      <td>White</td>\n",
       "      <td>414</td>\n",
       "    </tr>\n",
       "    <tr>\n",
       "      <th>2</th>\n",
       "      <td>Yes</td>\n",
       "      <td>Black</td>\n",
       "      <td>White</td>\n",
       "      <td>11</td>\n",
       "    </tr>\n",
       "    <tr>\n",
       "      <th>3</th>\n",
       "      <td>No</td>\n",
       "      <td>Black</td>\n",
       "      <td>White</td>\n",
       "      <td>37</td>\n",
       "    </tr>\n",
       "    <tr>\n",
       "      <th>4</th>\n",
       "      <td>Yes</td>\n",
       "      <td>White</td>\n",
       "      <td>Black</td>\n",
       "      <td>0</td>\n",
       "    </tr>\n",
       "    <tr>\n",
       "      <th>5</th>\n",
       "      <td>No</td>\n",
       "      <td>White</td>\n",
       "      <td>Black</td>\n",
       "      <td>16</td>\n",
       "    </tr>\n",
       "    <tr>\n",
       "      <th>6</th>\n",
       "      <td>Yes</td>\n",
       "      <td>Black</td>\n",
       "      <td>Black</td>\n",
       "      <td>4</td>\n",
       "    </tr>\n",
       "    <tr>\n",
       "      <th>7</th>\n",
       "      <td>No</td>\n",
       "      <td>Black</td>\n",
       "      <td>Black</td>\n",
       "      <td>139</td>\n",
       "    </tr>\n",
       "  </tbody>\n",
       "</table>\n",
       "</div>"
      ],
      "text/plain": [
       "  DeathPen Defendant Victim  freq\n",
       "0      Yes     White  White    53\n",
       "1       No     White  White   414\n",
       "2      Yes     Black  White    11\n",
       "3       No     Black  White    37\n",
       "4      Yes     White  Black     0\n",
       "5       No     White  Black    16\n",
       "6      Yes     Black  Black     4\n",
       "7       No     Black  Black   139"
      ]
     },
     "execution_count": 2,
     "metadata": {},
     "output_type": "execute_result"
    }
   ],
   "source": [
    "# Load the data.\n",
    "data = pd.read_table(\"deathpen.txt\", sep=\"\\s+\")\n",
    "data"
   ]
  },
  {
   "cell_type": "markdown",
   "metadata": {},
   "source": [
    "Assume that $$\\text{DeathPen} \\perp \\text{Defendant} \\mid \\text{Victim}.$$"
   ]
  },
  {
   "cell_type": "code",
   "execution_count": 3,
   "metadata": {},
   "outputs": [
    {
     "data": {
      "text/plain": [
       "Intercept                                   4.937366\n",
       "C(DeathPen)[T.Yes]                         -3.657131\n",
       "C(Victim)[T.White]                         -1.198864\n",
       "C(Defendant)[T.White]                      -2.190256\n",
       "C(DeathPen)[T.Yes]:C(Victim)[T.White]       1.704546\n",
       "C(Defendant)[T.White]:C(Victim)[T.White]    4.465384\n",
       "dtype: float64"
      ]
     },
     "execution_count": 3,
     "metadata": {},
     "output_type": "execute_result"
    }
   ],
   "source": [
    "# Fit the model.\n",
    "mod1 = glm(formula=\"freq~C(DeathPen)*C(Victim)+C(Defendant)*C(Victim)\", data=data, \n",
    "            family=sm.families.Poisson(sm.families.links.log()))\n",
    "mod1.fit().params"
   ]
  },
  {
   "cell_type": "markdown",
   "metadata": {},
   "source": [
    "If we fit the marginal table over $\\text{Victim}$ and $\\text{Defendant}$, the parameters involving $\\text{Defendant}$ are the same."
   ]
  },
  {
   "cell_type": "code",
   "execution_count": 4,
   "metadata": {},
   "outputs": [
    {
     "data": {
      "text/plain": [
       "Intercept                                   4.269697\n",
       "C(Defendant)[T.White]                      -2.190256\n",
       "C(Victim)[T.White]                         -1.091644\n",
       "C(Defendant)[T.White]:C(Victim)[T.White]    4.465384\n",
       "dtype: float64"
      ]
     },
     "execution_count": 4,
     "metadata": {},
     "output_type": "execute_result"
    }
   ],
   "source": [
    "mod2 = glm(formula=\"freq~C(Defendant)*C(Victim)\", data=data, \n",
    "            family=sm.families.Poisson(sm.families.links.log()))\n",
    "mod2.fit().params"
   ]
  },
  {
   "cell_type": "markdown",
   "metadata": {},
   "source": [
    "We can also check that the subsets of $C=\\{\\text{Victim}\\}$ are given by the other condition we have $$\\lambda_W=\\lambda_W^{AC}+\\lambda_W^{BC}-\\lambda_W^C$$ for $W \\subseteq C$."
   ]
  },
  {
   "cell_type": "code",
   "execution_count": 5,
   "metadata": {},
   "outputs": [
    {
     "data": {
      "text/plain": [
       "Intercept                                4.350278\n",
       "C(DeathPen)[T.Yes]                      -3.657131\n",
       "C(Victim)[T.White]                       1.068042\n",
       "C(DeathPen)[T.Yes]:C(Victim)[T.White]    1.704546\n",
       "dtype: float64"
      ]
     },
     "execution_count": 5,
     "metadata": {},
     "output_type": "execute_result"
    }
   ],
   "source": [
    "mod3 = glm(formula=\"freq~C(DeathPen)*C(Victim)\", data=data, \n",
    "            family=sm.families.Poisson(sm.families.links.log()))\n",
    "mod3.fit().params"
   ]
  },
  {
   "cell_type": "code",
   "execution_count": 6,
   "metadata": {},
   "outputs": [
    {
     "data": {
      "text/plain": [
       "Intercept             3.682610\n",
       "C(Victim)[T.White]    1.175263\n",
       "dtype: float64"
      ]
     },
     "execution_count": 6,
     "metadata": {},
     "output_type": "execute_result"
    }
   ],
   "source": [
    "mod4 = glm(formula=\"freq~C(Victim)\", data=data, \n",
    "            family=sm.families.Poisson(sm.families.links.log()))\n",
    "mod4.fit().params"
   ]
  },
  {
   "cell_type": "code",
   "execution_count": 7,
   "metadata": {},
   "outputs": [
    {
     "data": {
      "text/plain": [
       "Intercept             4.937366\n",
       "C(Victim)[T.White]   -1.198864\n",
       "dtype: float64"
      ]
     },
     "execution_count": 7,
     "metadata": {},
     "output_type": "execute_result"
    }
   ],
   "source": [
    "mod2.fit().params[[0, 2]] + mod3.fit().params[[0, 2]] - mod4.fit().params[[0, 1]]"
   ]
  },
  {
   "cell_type": "markdown",
   "metadata": {},
   "source": [
    "The coefficients above match those from `mod1`."
   ]
  }
 ],
 "metadata": {
  "kernelspec": {
   "display_name": "Python 3",
   "language": "python",
   "name": "python3"
  },
  "language_info": {
   "codemirror_mode": {
    "name": "ipython",
    "version": 3
   },
   "file_extension": ".py",
   "mimetype": "text/x-python",
   "name": "python",
   "nbconvert_exporter": "python",
   "pygments_lexer": "ipython3",
   "version": "3.9.1"
  }
 },
 "nbformat": 4,
 "nbformat_minor": 4
}
