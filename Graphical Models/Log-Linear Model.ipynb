{
 "cells": [
  {
   "cell_type": "markdown",
   "metadata": {},
   "source": [
    "# Log-Linear Model\n",
    "\n",
    "This is a demo of log-linear model.\n",
    "\n",
    "## Code and Result"
   ]
  },
  {
   "cell_type": "code",
   "execution_count": null,
   "metadata": {},
   "outputs": [],
   "source": [
    "# Packages.\n",
    "import pandas as pd\n",
    "import statsmodels.api as sm\n",
    "from statsmodels.formula.api import glm"
   ]
  },
  {
   "cell_type": "code",
   "execution_count": null,
   "metadata": {},
   "outputs": [],
   "source": [
    "# Load the data.\n",
    "data = pd.read_table(\"deathpen.txt\", sep=\"\\s+\")\n",
    "data"
   ]
  },
  {
   "cell_type": "markdown",
   "metadata": {},
   "source": [
    "Assume that $$\\text{DeathPen} \\perp\\!\\!\\!\\perp \\text{Defendant} \\mid \\text{Victim}.$$"
   ]
  },
  {
   "cell_type": "code",
   "execution_count": null,
   "metadata": {},
   "outputs": [],
   "source": [
    "# Fit the model.\n",
    "mod1 = glm(formula=\"freq~C(DeathPen)*C(Victim)+C(Defendant)*C(Victim)\", data=data, \n",
    "            family=sm.families.Poisson(sm.families.links.log()))\n",
    "mod1.fit().params"
   ]
  },
  {
   "cell_type": "markdown",
   "metadata": {},
   "source": [
    "If we fit the marginal table over $\\text{Victim}$ and $\\text{Defendant}$, the parameters involving $\\text{Defendant}$ are the same."
   ]
  },
  {
   "cell_type": "code",
   "execution_count": null,
   "metadata": {},
   "outputs": [],
   "source": [
    "mod2 = glm(formula=\"freq~C(Defendant)*C(Victim)\", data=data, \n",
    "            family=sm.families.Poisson(sm.families.links.log()))\n",
    "mod2.fit().params"
   ]
  },
  {
   "cell_type": "markdown",
   "metadata": {},
   "source": [
    "We can also check that the subsets of $C=\\{\\text{Victim}\\}$ are given by the other condition we have $$\\lambda_W=\\lambda_W^{AC}+\\lambda_W^{BC}-\\lambda_W^C$$ for $W \\subseteq C$."
   ]
  },
  {
   "cell_type": "code",
   "execution_count": null,
   "metadata": {},
   "outputs": [],
   "source": [
    "mod3 = glm(formula=\"freq~C(DeathPen)*C(Victim)\", data=data, \n",
    "            family=sm.families.Poisson(sm.families.links.log()))\n",
    "mod3.fit().params"
   ]
  },
  {
   "cell_type": "code",
   "execution_count": null,
   "metadata": {},
   "outputs": [],
   "source": [
    "mod4 = glm(formula=\"freq~C(Victim)\", data=data, \n",
    "            family=sm.families.Poisson(sm.families.links.log()))\n",
    "mod4.fit().params"
   ]
  },
  {
   "cell_type": "code",
   "execution_count": null,
   "metadata": {},
   "outputs": [],
   "source": [
    "mod2.fit().params[[0, 2]] + mod3.fit().params[[0, 2]] - mod4.fit().params[[0, 1]]"
   ]
  },
  {
   "cell_type": "markdown",
   "metadata": {},
   "source": [
    "The coefficients above match those from `mod1`."
   ]
  }
 ],
 "metadata": {
  "kernelspec": {
   "display_name": "Python 3",
   "language": "python",
   "name": "python3"
  },
  "language_info": {
   "codemirror_mode": {
    "name": "ipython",
    "version": 3
   },
   "file_extension": ".py",
   "mimetype": "text/x-python",
   "name": "python",
   "nbconvert_exporter": "python",
   "pygments_lexer": "ipython3",
   "version": "3.9.1"
  }
 },
 "nbformat": 4,
 "nbformat_minor": 4
}
